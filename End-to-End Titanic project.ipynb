{
 "cells": [
  {
   "cell_type": "code",
   "execution_count": null,
   "id": "83d6ed43-e580-4470-a295-15b1140af32f",
   "metadata": {},
   "outputs": [],
   "source": [
    "\"\"\"\n",
    "End-to-End Titanic Project\n",
    "––––––––––––––––––––––––––\n",
    "Loads train/test data\n",
    "Exploratory prints (head, info, null counts)\n",
    "Cleans / preprocesses\n",
    "Trains a Random-Forest model\n",
    "Reports validation accuracy\n",
    "Generates kaggle-ready submission file\n",
    "\"\"\""
   ]
  },
  {
   "cell_type": "code",
   "execution_count": 3,
   "id": "37ef92dd-495d-4e08-b013-ffa20d776d82",
   "metadata": {},
   "outputs": [],
   "source": [
    "import pandas as pd\n",
    "from sklearn.preprocessing import LabelEncoder\n",
    "from sklearn.ensemble import RandomForestClassifier\n",
    "from sklearn.model_selection import train_test_split\n",
    "from sklearn.metrics import accuracy_score"
   ]
  },
  {
   "cell_type": "code",
   "execution_count": 4,
   "id": "f5d3eab0-63fe-4d60-9ea9-4299532bfe29",
   "metadata": {},
   "outputs": [
    {
     "name": "stdout",
     "output_type": "stream",
     "text": [
      "--TRAIN HEAD-- \n",
      "   PassengerId  Survived  Pclass  \\\n",
      "0            1         0       3   \n",
      "1            2         1       1   \n",
      "2            3         1       3   \n",
      "3            4         1       1   \n",
      "4            5         0       3   \n",
      "\n",
      "                                                Name     Sex   Age  SibSp  \\\n",
      "0                            Braund, Mr. Owen Harris    male  22.0      1   \n",
      "1  Cumings, Mrs. John Bradley (Florence Briggs Th...  female  38.0      1   \n",
      "2                             Heikkinen, Miss. Laina  female  26.0      0   \n",
      "3       Futrelle, Mrs. Jacques Heath (Lily May Peel)  female  35.0      1   \n",
      "4                           Allen, Mr. William Henry    male  35.0      0   \n",
      "\n",
      "   Parch            Ticket     Fare Cabin Embarked  \n",
      "0      0         A/5 21171   7.2500   NaN        S  \n",
      "1      0          PC 17599  71.2833   C85        C  \n",
      "2      0  STON/O2. 3101282   7.9250   NaN        S  \n",
      "3      0            113803  53.1000  C123        S  \n",
      "4      0            373450   8.0500   NaN        S   \n",
      "\n",
      "--TEST HEAD--\n",
      "   PassengerId  Pclass                                          Name     Sex  \\\n",
      "0          892       3                              Kelly, Mr. James    male   \n",
      "1          893       3              Wilkes, Mrs. James (Ellen Needs)  female   \n",
      "2          894       2                     Myles, Mr. Thomas Francis    male   \n",
      "3          895       3                              Wirz, Mr. Albert    male   \n",
      "4          896       3  Hirvonen, Mrs. Alexander (Helga E Lindqvist)  female   \n",
      "\n",
      "    Age  SibSp  Parch   Ticket     Fare Cabin Embarked  \n",
      "0  34.5      0      0   330911   7.8292   NaN        Q  \n",
      "1  47.0      1      0   363272   7.0000   NaN        S  \n",
      "2  62.0      0      0   240276   9.6875   NaN        Q  \n",
      "3  27.0      0      0   315154   8.6625   NaN        S  \n",
      "4  22.0      1      1  3101298  12.2875   NaN        S   \n",
      "\n",
      "--TRAIN INFO--\n",
      "<class 'pandas.core.frame.DataFrame'>\n",
      "RangeIndex: 891 entries, 0 to 890\n",
      "Data columns (total 12 columns):\n",
      " #   Column       Non-Null Count  Dtype  \n",
      "---  ------       --------------  -----  \n",
      " 0   PassengerId  891 non-null    int64  \n",
      " 1   Survived     891 non-null    int64  \n",
      " 2   Pclass       891 non-null    int64  \n",
      " 3   Name         891 non-null    object \n",
      " 4   Sex          891 non-null    object \n",
      " 5   Age          714 non-null    float64\n",
      " 6   SibSp        891 non-null    int64  \n",
      " 7   Parch        891 non-null    int64  \n",
      " 8   Ticket       891 non-null    object \n",
      " 9   Fare         891 non-null    float64\n",
      " 10  Cabin        204 non-null    object \n",
      " 11  Embarked     889 non-null    object \n",
      "dtypes: float64(2), int64(5), object(5)\n",
      "memory usage: 83.7+ KB\n",
      "None \n",
      "\n",
      "--TEST INFO--\n",
      "<class 'pandas.core.frame.DataFrame'>\n",
      "RangeIndex: 418 entries, 0 to 417\n",
      "Data columns (total 11 columns):\n",
      " #   Column       Non-Null Count  Dtype  \n",
      "---  ------       --------------  -----  \n",
      " 0   PassengerId  418 non-null    int64  \n",
      " 1   Pclass       418 non-null    int64  \n",
      " 2   Name         418 non-null    object \n",
      " 3   Sex          418 non-null    object \n",
      " 4   Age          332 non-null    float64\n",
      " 5   SibSp        418 non-null    int64  \n",
      " 6   Parch        418 non-null    int64  \n",
      " 7   Ticket       418 non-null    object \n",
      " 8   Fare         417 non-null    float64\n",
      " 9   Cabin        91 non-null     object \n",
      " 10  Embarked     418 non-null    object \n",
      "dtypes: float64(2), int64(4), object(5)\n",
      "memory usage: 36.0+ KB\n",
      "None \n",
      "\n",
      "--TRAIN NULL COUNTS--\n",
      "PassengerId      0\n",
      "Survived         0\n",
      "Pclass           0\n",
      "Name             0\n",
      "Sex              0\n",
      "Age            177\n",
      "SibSp            0\n",
      "Parch            0\n",
      "Ticket           0\n",
      "Fare             0\n",
      "Cabin          687\n",
      "Embarked         2\n",
      "dtype: int64 \n",
      "\n",
      "--TEST NULL COUNTS--\n",
      "PassengerId      0\n",
      "Pclass           0\n",
      "Name             0\n",
      "Sex              0\n",
      "Age             86\n",
      "SibSp            0\n",
      "Parch            0\n",
      "Ticket           0\n",
      "Fare             1\n",
      "Cabin          327\n",
      "Embarked         0\n",
      "dtype: int64 \n",
      "\n"
     ]
    }
   ],
   "source": [
    "train = pd.read_csv(r\"C:\\Users\\USER\\Downloads\\titanic\\train.csv\")\n",
    "test  = pd.read_csv(r\"C:\\Users\\USER\\Downloads\\titanic\\test.csv\")\n",
    "\n",
    "print(\"--TRAIN HEAD-- \"); print(train.head(), \"\\n\")\n",
    "print(\"--TEST HEAD--\"); print(test.head(),  \"\\n\")\n",
    "\n",
    "print(\"--TRAIN INFO--\"); print(train.info(), \"\\n\")\n",
    "print(\"--TEST INFO--\"); print(test.info(),  \"\\n\")\n",
    "\n",
    "print(\"--TRAIN NULL COUNTS--\"); print(train.isna().sum(), \"\\n\")\n",
    "print(\"--TEST NULL COUNTS--\");  print(test.isna().sum(),  \"\\n\")"
   ]
  },
  {
   "cell_type": "code",
   "execution_count": 8,
   "id": "94d87c20-9899-441c-ae87-a72ac3d3627e",
   "metadata": {},
   "outputs": [],
   "source": [
    "# Combine for uniform preprocessing\n",
    "train[\"TrainSplit\"] = True\n",
    "test [\"TrainSplit\"] = False\n",
    "test [\"Survived\"]   = None          \n",
    "full = pd.concat([train, test], sort=False)\n",
    "\n",
    "full[\"Age\"] = full[\"Age\"].fillna(full[\"Age\"].median())\n",
    "full[\"Fare\"] = full[\"Fare\"].fillna(full[\"Fare\"].median())\n",
    "full[\"Embarked\"] = full[\"Embarked\"].fillna(full[\"Embarked\"].mode()[0])"
   ]
  },
  {
   "cell_type": "code",
   "execution_count": 9,
   "id": "c6ef0ad4-74a5-4c12-ae8d-4ff662eb798a",
   "metadata": {},
   "outputs": [],
   "source": [
    "# Drop high-null \n",
    "full.drop(columns=[\"Cabin\", \"Ticket\", \"Name\"], inplace=True)"
   ]
  },
  {
   "cell_type": "code",
   "execution_count": 10,
   "id": "91309656-e8d4-4b0a-bdff-7fd50575e50f",
   "metadata": {},
   "outputs": [
    {
     "name": "stdout",
     "output_type": "stream",
     "text": [
      "=== CLEANED HEAD ===\n",
      "   PassengerId Survived  Pclass  Sex   Age  SibSp  Parch     Fare  Embarked  \\\n",
      "0            1        0       3    1  22.0      1      0   7.2500         2   \n",
      "1            2        1       1    0  38.0      1      0  71.2833         0   \n",
      "2            3        1       3    0  26.0      0      0   7.9250         2   \n",
      "3            4        1       1    0  35.0      1      0  53.1000         2   \n",
      "4            5        0       3    1  35.0      0      0   8.0500         2   \n",
      "\n",
      "   TrainSplit  \n",
      "0        True  \n",
      "1        True  \n",
      "2        True  \n",
      "3        True  \n",
      "4        True   \n",
      "\n"
     ]
    }
   ],
   "source": [
    "# Encode categoricals\n",
    "full[\"Sex\"]      = LabelEncoder().fit_transform(full[\"Sex\"])\n",
    "full[\"Embarked\"] = LabelEncoder().fit_transform(full[\"Embarked\"])\n",
    "print(\"=== CLEANED HEAD ===\"); print(full.head(), \"\\n\")"
   ]
  },
  {
   "cell_type": "code",
   "execution_count": 11,
   "id": "4effb71b-2d6d-4a89-b5cf-b44bc766c022",
   "metadata": {},
   "outputs": [],
   "source": [
    "# Split back\n",
    "clean_train = full[full[\"TrainSplit\"]].drop(columns=\"TrainSplit\")\n",
    "clean_test  = full[~full[\"TrainSplit\"]].drop(columns=[\"TrainSplit\", \"Survived\"])"
   ]
  },
  {
   "cell_type": "code",
   "execution_count": 12,
   "id": "8b63435b-4958-441f-8784-b313da2bf636",
   "metadata": {},
   "outputs": [
    {
     "name": "stdout",
     "output_type": "stream",
     "text": [
      "Validation Accuracy: 81.0056%\n"
     ]
    }
   ],
   "source": [
    "# Train / validation split\n",
    "X = clean_train.drop(columns=[\"Survived\", \"PassengerId\"])\n",
    "y = clean_train[\"Survived\"].astype(int)\n",
    "X_tr, X_val, y_tr, y_val = train_test_split(X, y, test_size=0.2, random_state=42)\n",
    "# Model training\n",
    "model = RandomForestClassifier(n_estimators=200, random_state=42)\n",
    "model.fit(X_tr, y_tr)\n",
    "\n",
    "# Validation\n",
    "val_pred = model.predict(X_val)\n",
    "acc = accuracy_score(y_val, val_pred)\n",
    "print(f\"Validation Accuracy: {acc:.4%}\")\n",
    "\n",
    "# Predict on test set\n",
    "test_features = clean_test.drop(columns=[\"PassengerId\"])\n",
    "test_pred = model.predict(test_features)"
   ]
  },
  {
   "cell_type": "code",
   "execution_count": 17,
   "id": "a1dfa9c8-7172-4dfa-93e3-5cad67fc0928",
   "metadata": {},
   "outputs": [
    {
     "name": "stdout",
     "output_type": "stream",
     "text": [
      "\n",
      "Files generated:\n",
      "• cleaned_train.csv\n",
      "• cleaned_test.csv\n",
      "• titanic_submission.csv \n"
     ]
    }
   ],
   "source": [
    "# Save cleaned data & submission\n",
    "clean_train.to_csv(r\"C:\\Users\\USER\\Downloads\\titanic\\cleaned\\cleaned_train.csv\", index=False)\n",
    "clean_test .to_csv(r\"C:\\Users\\USER\\Downloads\\titanic\\cleaned\\cleaned_test.csv\" , index=False)\n",
    "\n",
    "submission = pd.DataFrame({\n",
    "    \"PassengerId\": clean_test[\"PassengerId\"],\n",
    "    \"Survived\":    test_pred.astype(int)\n",
    "})\n",
    "submission.to_csv(r\"C:\\Users\\USER\\Downloads\\titanic\\cleaned\\titanic_submission.csv\", index=False)\n",
    "\n",
    "print(\"\\nFiles generated:\")\n",
    "print(\"• cleaned_train.csv\")\n",
    "print(\"• cleaned_test.csv\")\n",
    "print(\"• titanic_submission.csv \")\n"
   ]
  },
  {
   "cell_type": "code",
   "execution_count": null,
   "id": "c8e7fbec-5ff5-4166-9b78-79e12a8ab95f",
   "metadata": {},
   "outputs": [],
   "source": []
  }
 ],
 "metadata": {
  "kernelspec": {
   "display_name": "Python 3 (ipykernel)",
   "language": "python",
   "name": "python3"
  },
  "language_info": {
   "codemirror_mode": {
    "name": "ipython",
    "version": 3
   },
   "file_extension": ".py",
   "mimetype": "text/x-python",
   "name": "python",
   "nbconvert_exporter": "python",
   "pygments_lexer": "ipython3",
   "version": "3.10.11"
  }
 },
 "nbformat": 4,
 "nbformat_minor": 5
}
